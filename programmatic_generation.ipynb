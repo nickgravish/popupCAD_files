{
 "cells": [
  {
   "cell_type": "code",
   "execution_count": 1,
   "metadata": {},
   "outputs": [],
   "source": [
    "import popupcad\n",
    "from popupcad.filetypes.sketch import Sketch\n",
    "import numpy\n",
    "import sys\n",
    "import PySide.QtGui as qg\n",
    "from popupcad_manufacturing_plugins.manufacturing.outersheet3 import OuterSheet3"
   ]
  },
  {
   "cell_type": "code",
   "execution_count": 2,
   "metadata": {},
   "outputs": [],
   "source": [
    "%qtconsole"
   ]
  },
  {
   "cell_type": "code",
   "execution_count": 4,
   "metadata": {},
   "outputs": [],
   "source": [
    "def find_sketch_with_string(design,string):\n",
    "    sketches = []\n",
    "    for key,value in design.sketches.items():\n",
    "        if string.lower() in value.get_basename().lower():\n",
    "            sketches.append(value)\n",
    "    return sketches"
   ]
  },
  {
   "cell_type": "code",
   "execution_count": 3,
   "metadata": {},
   "outputs": [
    {
     "ename": "TypeError",
     "evalue": "__init__() missing 4 required positional arguments: 'operations', 'layerdef', 'sketches', and 'subdesigns'",
     "output_type": "error",
     "traceback": [
      "\u001b[0;31m---------------------------------------------------------------------------\u001b[0m",
      "\u001b[0;31mTypeError\u001b[0m                                 Traceback (most recent call last)",
      "\u001b[0;32m<ipython-input-3-dddc0c6c06d7>\u001b[0m in \u001b[0;36m<module>\u001b[0;34m()\u001b[0m\n\u001b[1;32m      1\u001b[0m \u001b[0mpp\u001b[0m \u001b[0;34m=\u001b[0m \u001b[0mqg\u001b[0m\u001b[0;34m.\u001b[0m\u001b[0mQApplication\u001b[0m\u001b[0;34m(\u001b[0m\u001b[0msys\u001b[0m\u001b[0;34m.\u001b[0m\u001b[0margv\u001b[0m\u001b[0;34m)\u001b[0m\u001b[0;34m\u001b[0m\u001b[0m\n\u001b[1;32m      2\u001b[0m \u001b[0;34m\u001b[0m\u001b[0m\n\u001b[0;32m----> 3\u001b[0;31m \u001b[0mtop_design\u001b[0m \u001b[0;34m=\u001b[0m \u001b[0mpopupcad\u001b[0m\u001b[0;34m.\u001b[0m\u001b[0mfiletypes\u001b[0m\u001b[0;34m.\u001b[0m\u001b[0mdesign\u001b[0m\u001b[0;34m.\u001b[0m\u001b[0mDesign\u001b[0m\u001b[0;34m(\u001b[0m\u001b[0;34m)\u001b[0m\u001b[0;34m\u001b[0m\u001b[0m\n\u001b[0m\u001b[1;32m      4\u001b[0m \u001b[0mtop_design\u001b[0m\u001b[0;34m.\u001b[0m\u001b[0mdefine_layers\u001b[0m\u001b[0;34m(\u001b[0m\u001b[0mpopupcad\u001b[0m\u001b[0;34m.\u001b[0m\u001b[0mfiletypes\u001b[0m\u001b[0;34m.\u001b[0m\u001b[0mlayerdef\u001b[0m\u001b[0;34m.\u001b[0m\u001b[0mLayerDef\u001b[0m\u001b[0;34m(\u001b[0m\u001b[0;34m*\u001b[0m\u001b[0mpopupcad\u001b[0m\u001b[0;34m.\u001b[0m\u001b[0mfiletypes\u001b[0m\u001b[0;34m.\u001b[0m\u001b[0mmaterial2\u001b[0m\u001b[0;34m.\u001b[0m\u001b[0mdefault_sublaminate\u001b[0m\u001b[0;34m)\u001b[0m\u001b[0;34m)\u001b[0m\u001b[0;34m\u001b[0m\u001b[0m\n\u001b[1;32m      5\u001b[0m \u001b[0;34m\u001b[0m\u001b[0m\n",
      "\u001b[0;31mTypeError\u001b[0m: __init__() missing 4 required positional arguments: 'operations', 'layerdef', 'sketches', and 'subdesigns'"
     ]
    }
   ],
   "source": [
    "pp = qg.QApplication(sys.argv)\n",
    "\n",
    "top_design = popupcad.filetypes.design.Design()\n",
    "top_design.define_layers(popupcad.filetypes.layerdef.LayerDef(*popupcad.filetypes.material2.default_sublaminate))\n",
    "\n",
    "single_layer_joint_manufacturing = popupcad.filetypes.design.Design.load_yaml('/Users/nickgravish/popupCAD_files/designs/jointed_robot_subdesign.cad')\n",
    "sub_body_sketch = find_sketch_with_string(single_layer_joint_manufacturing,'body')[0]\n",
    "sub_joint_sketch = find_sketch_with_string(single_layer_joint_manufacturing,'joint')[0]\n",
    "\n",
    "devices = {}\n",
    "device_links = {'unary': [], 'binary': []}\n",
    "sheet_links= {'unary': [], 'binary': []}\n",
    "first_cut_links= {'unary': [], 'binary': []}\n",
    "second_cut_links= {'unary': [], 'binary': []}"
   ]
  },
  {
   "cell_type": "code",
   "execution_count": 6,
   "metadata": {},
   "outputs": [
    {
     "ename": "AttributeError",
     "evalue": "'module' object has no attribute 'triangulate'",
     "output_type": "error",
     "traceback": [
      "\u001b[0;31m---------------------------------------------------------------------------\u001b[0m",
      "\u001b[0;31mAttributeError\u001b[0m                            Traceback (most recent call last)",
      "\u001b[0;32m<ipython-input-6-979b0ed33de4>\u001b[0m in \u001b[0;36m<module>\u001b[0;34m()\u001b[0m\n\u001b[1;32m      3\u001b[0m \u001b[0;32mwhile\u001b[0m \u001b[0mii\u001b[0m\u001b[0;34m<\u001b[0m\u001b[0;36m5\u001b[0m\u001b[0;34m:\u001b[0m\u001b[0;34m\u001b[0m\u001b[0m\n\u001b[1;32m      4\u001b[0m     \u001b[0mpoints\u001b[0m \u001b[0;34m=\u001b[0m \u001b[0mnumpy\u001b[0m\u001b[0;34m.\u001b[0m\u001b[0mrandom\u001b[0m\u001b[0;34m.\u001b[0m\u001b[0mrand\u001b[0m\u001b[0;34m(\u001b[0m\u001b[0;36m5\u001b[0m\u001b[0;34m,\u001b[0m\u001b[0;36m2\u001b[0m\u001b[0;34m)\u001b[0m\u001b[0;34m*\u001b[0m\u001b[0;36m20\u001b[0m\u001b[0;34m+\u001b[0m\u001b[0;34m[\u001b[0m\u001b[0mii\u001b[0m\u001b[0;34m*\u001b[0m\u001b[0;36m20\u001b[0m\u001b[0;34m,\u001b[0m\u001b[0;36m0\u001b[0m\u001b[0;34m]\u001b[0m\u001b[0;34m\u001b[0m\u001b[0m\n\u001b[0;32m----> 5\u001b[0;31m     \u001b[0mbody_polygon\u001b[0m \u001b[0;34m=\u001b[0m \u001b[0mpopupcad\u001b[0m\u001b[0;34m.\u001b[0m\u001b[0malgorithms\u001b[0m\u001b[0;34m.\u001b[0m\u001b[0mtriangulate\u001b[0m\u001b[0;34m.\u001b[0m\u001b[0mconvex_hull\u001b[0m\u001b[0;34m(\u001b[0m\u001b[0mpoints\u001b[0m\u001b[0;34m)\u001b[0m\u001b[0;34m\u001b[0m\u001b[0m\n\u001b[0m\u001b[1;32m      6\u001b[0m     \u001b[0marea\u001b[0m\u001b[0;34m,\u001b[0m\u001b[0mcentroid\u001b[0m\u001b[0;34m,\u001b[0m\u001b[0mvolume\u001b[0m\u001b[0;34m,\u001b[0m\u001b[0mmass\u001b[0m\u001b[0;34m,\u001b[0m\u001b[0mtris\u001b[0m \u001b[0;34m=\u001b[0m \u001b[0mbody_polygon\u001b[0m\u001b[0;34m.\u001b[0m\u001b[0mmass_properties\u001b[0m\u001b[0;34m(\u001b[0m\u001b[0;36m1\u001b[0m\u001b[0;34m,\u001b[0m\u001b[0;34m-\u001b[0m\u001b[0;36m1\u001b[0m\u001b[0;34m,\u001b[0m\u001b[0;36m1\u001b[0m\u001b[0;34m,\u001b[0m\u001b[0mpopupcad\u001b[0m\u001b[0;34m.\u001b[0m\u001b[0mSI_length_scaling\u001b[0m\u001b[0;34m)\u001b[0m\u001b[0;34m\u001b[0m\u001b[0m\n\u001b[1;32m      7\u001b[0m     \u001b[0mcentroid\u001b[0m \u001b[0;34m=\u001b[0m \u001b[0mcentroid\u001b[0m\u001b[0;34m[\u001b[0m\u001b[0;34m:\u001b[0m\u001b[0;36m2\u001b[0m\u001b[0;34m]\u001b[0m\u001b[0;34m.\u001b[0m\u001b[0mtolist\u001b[0m\u001b[0;34m(\u001b[0m\u001b[0;34m)\u001b[0m\u001b[0;34m\u001b[0m\u001b[0m\n",
      "\u001b[0;31mAttributeError\u001b[0m: 'module' object has no attribute 'triangulate'"
     ]
    }
   ],
   "source": [
    "ii = 0\n",
    "while ii<5:\n",
    "    points = numpy.random.rand(5,2)*20+[ii*20,0]\n",
    "    body_polygon = popupcad.algorithms.triangulate.convex_hull(points)\n",
    "    area,centroid,volume,mass,tris = body_polygon.mass_properties(1,-1,1,popupcad.SI_length_scaling)\n",
    "    centroid = centroid[:2].tolist()\n",
    "#    \n",
    "    points = numpy.array(body_polygon.exteriorpoints()+[centroid])\n",
    "    body_triangles= popupcad.algorithms.triangulate.triangulate(points)\n",
    "    generic_lines = popupcad.algorithms.getjoints.getjoints(body_triangles,5)\n",
    "    \n",
    "    body_sketch = Sketch()\n",
    "    body_sketch.addoperationgeometries([body_polygon])\n",
    "    joints_sketch = Sketch()\n",
    "    joints_sketch.addoperationgeometries(generic_lines)\n",
    "    \n",
    "    \n",
    "    top_design.subdesigns[single_layer_joint_manufacturing.id] = single_layer_joint_manufacturing\n",
    "    top_design.sketches[body_sketch.id] = body_sketch\n",
    "    top_design.sketches[joints_sketch.id] = joints_sketch\n",
    "    \n",
    "    design_links = {}\n",
    "    design_links['source'] = single_layer_joint_manufacturing.id\n",
    "    sketch_list = []\n",
    "    sketch_list.append(popupcad.manufacturing.sub_operation2.SketchData(sub_body_sketch.id,body_sketch.id))\n",
    "    sketch_list.append(popupcad.manufacturing.sub_operation2.SketchData(sub_joint_sketch.id,joints_sketch.id))\n",
    "    input_list = []\n",
    "    output_list = []\n",
    "    output_list.append(popupcad.manufacturing.sub_operation2.OutputData((single_layer_joint_manufacturing.operations[3].id,0),0))\n",
    "    output_list.append(popupcad.manufacturing.sub_operation2.OutputData((single_layer_joint_manufacturing.operations[5].id,0),0))\n",
    "    output_list.append(popupcad.manufacturing.sub_operation2.OutputData((single_layer_joint_manufacturing.operations[8].id,0),0))\n",
    "    output_list.append(popupcad.manufacturing.sub_operation2.OutputData((single_layer_joint_manufacturing.operations[9].id,0),0))\n",
    "    \n",
    "    subop = popupcad.manufacturing.sub_operation2.SubOperation2(design_links, sketch_list, input_list, output_list)\n",
    "    try:\n",
    "        subop.generate(top_design)\n",
    "        top_design.addoperation(subop)\n",
    "        device_links['unary'].append((subop.id,0))\n",
    "        sheet_links['unary'].append((subop.id,1))\n",
    "        first_cut_links['unary'].append((subop.id,2))\n",
    "        second_cut_links['unary'].append((subop.id,3))\n",
    "        ii+=1\n",
    "    except:\n",
    "        pass"
   ]
  },
  {
   "cell_type": "code",
   "execution_count": null,
   "metadata": {},
   "outputs": [],
   "source": [
    ""
   ]
  }
 ],
 "metadata": {
  "kernelspec": {
   "display_name": "Python 2",
   "language": "python",
   "name": "python2"
  },
  "language_info": {
   "codemirror_mode": {
    "name": "ipython",
    "version": 2.0
   },
   "file_extension": ".py",
   "mimetype": "text/x-python",
   "name": "python",
   "nbconvert_exporter": "python",
   "pygments_lexer": "ipython2",
   "version": "2.7.8"
  }
 },
 "nbformat": 4,
 "nbformat_minor": 0
}